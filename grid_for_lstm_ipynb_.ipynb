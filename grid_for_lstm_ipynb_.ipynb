{
  "cells": [
    {
      "cell_type": "code",
      "execution_count": null,
      "metadata": {
        "colab": {
          "base_uri": "https://localhost:8080/"
        },
        "id": "MuFaDyIQEXvW",
        "outputId": "6e8ac292-ef36-4e8a-fec6-bb63338080aa"
      },
      "outputs": [
        {
          "output_type": "stream",
          "name": "stdout",
          "text": [
            "Drive already mounted at /content/drive; to attempt to forcibly remount, call drive.mount(\"/content/drive\", force_remount=True).\n"
          ]
        }
      ],
      "source": [
        "from google.colab import drive\n",
        "drive.mount('/content/drive')\n",
        "import os\n",
        "os.chdir('/content/drive/My Drive/metall/')"
      ]
    },
    {
      "cell_type": "code",
      "execution_count": null,
      "metadata": {
        "id": "nCeNitkMS8kS"
      },
      "outputs": [],
      "source": [
        "import pandas as pd\n",
        "import numpy as np\n",
        "import xgboost as xgb\n",
        "from sklearn.metrics import mean_squared_error as mse\n",
        "from sklearn.ensemble import RandomForestRegressor\n",
        "from sklearn.preprocessing import MinMaxScaler\n",
        "import matplotlib.pyplot as plt\n",
        "from sklearn.model_selection import TimeSeriesSplit\n",
        "\n",
        "\n",
        "from keras.models import load_model\n",
        "#!pip install joblib\n",
        "import joblib\n",
        "\n",
        "\n",
        "path = '/content/drive/MyDrive/Прогноз металлические заготовки/cloud/'\n",
        "file_name = 'data_for_lstm.csv'\n",
        "\n",
        "df = pd.read_csv(path + file_name)\n",
        "df.drop(['timepoint'], axis=1, inplace=True)\n"
      ]
    },
    {
      "cell_type": "markdown",
      "source": [
        "## LSTM"
      ],
      "metadata": {
        "id": "N8mOjEYp2dn5"
      }
    },
    {
      "cell_type": "code",
      "source": [
        "from keras.models import Sequential\n",
        "from keras.layers import Dense\n",
        "from keras.layers import LSTM\n",
        "from keras.layers import Dropout\n",
        "\n",
        "def lstm_trained(features_set,labels,epochs = 40, batch_size = 4,num_layers=1,p=0.0,units=12,optimizer='adam'):\n",
        "  '''\n",
        "  \n",
        "  return trained lstm\n",
        "  save model as lstm.hdf5\n",
        "  \n",
        "  '''\n",
        "  model = Sequential()\n",
        "  if num_layers==2:\n",
        "    model.add(LSTM(name='start_layer',units=units, return_sequences=True, input_shape=(features_set.shape[1],features_set.shape[2] )))\n",
        "    model.add(Dropout(p))\n",
        "    \n",
        "  elif num_layers>2:\n",
        "    model.add(LSTM(name='layer_{}'.format(i),units=units, return_sequences=True, input_shape=(features_set.shape[1],features_set.shape[2] )))\n",
        "    for layer in range(num_layers-1):\n",
        "      model.add(LSTM(name='prelast_layer',units=units, return_sequences=True))\n",
        "      model.add(Dropout(p))\n",
        "\n",
        "  model.add(LSTM(name='last_layer',units=units))\n",
        "  model.add(Dropout(p))\n",
        "  model.add(Dense(units = 1))\n",
        "  model.compile(optimizer = optimizer, loss = 'mean_squared_error')\n",
        "  model.fit(features_set, labels, epochs = epochs, batch_size = batch_size, verbose=1)\n",
        "  model.save(path+'lstm.hdf5')\n",
        "  return model\n",
        "\n"
      ],
      "metadata": {
        "id": "5H0wyuTC2b6x"
      },
      "execution_count": null,
      "outputs": []
    },
    {
      "cell_type": "markdown",
      "metadata": {
        "id": "OQW8I5CZ-RqQ"
      },
      "source": [
        "## predictions of lstm"
      ]
    },
    {
      "cell_type": "code",
      "execution_count": null,
      "metadata": {
        "id": "O87VMflNwJ0g"
      },
      "outputs": [],
      "source": [
        "def lstm_predict(df_train,df_test,shift, epochs = 2, batch_size = 8,num_layers=1,p=0.0,units=48,optimizer='adam'):\n",
        "  '''\n",
        "\n",
        "  returns the prediction lstm, trainded model, trainded scaler\n",
        "  save scaler as scaler_lstm\n",
        "\n",
        "  params:\n",
        "  shift - the length of the background\n",
        "  other - dataframes or params for lstm\n",
        "\n",
        "  '''\n",
        "  scaler = MinMaxScaler(feature_range = (0, 1))\n",
        "  df_training_processed = df_train.iloc[:, :].values\n",
        "  df_training_scaled = scaler.fit_transform(df_training_processed)\n",
        "  joblib.dump(scaler, path+'/scaler_lstm') \n",
        "  features_set = []\n",
        "  labels = []\n",
        "  # We will make predictions for the next week based on the history (length of shift=length_history)\n",
        "  # Let's form this selection\n",
        "  len_ = df_training_scaled.shape[0]\n",
        "  for i in range(shift, len_):\n",
        "      features_set.append(df_training_scaled[i-shift:i, :])\n",
        "      labels.append(df_training_scaled[i, 0])\n",
        "\n",
        "  # Convert to an np array and make a suitable format for LSTM, train the model\n",
        "  features_set, labels = np.array(features_set), np.array(labels)\n",
        "  features_set = np.reshape(features_set, (features_set.shape[0], features_set.shape[1], features_set.shape[2]))\n",
        "  model = lstm_trained(features_set, labels,epochs=epochs,batch_size=batch_size, p=p, num_layers=num_layers, optimizer=optimizer)\n",
        "\n",
        "  # Let's create a sample for testing\n",
        "  df_total = pd.concat((df_train, df_test), axis=0)\n",
        "  test_inputs = df_total[len(df_total) - len(df_test) - shift:]\n",
        "  test_inputs_processed = test_inputs.iloc[:, :].values\n",
        "  test_inputs_scaled= scaler.transform(test_inputs_processed)\n",
        "  test_features = []\n",
        "  for i in range(shift, len(test_inputs_scaled)):\n",
        "      test_features.append(test_inputs_scaled[i-shift:i, :])\n",
        "\n",
        "  # Convert again to an np array and make a format suitable for LSTM  test_features = np.array(test_features)\n",
        "  test_features = np.array(test_features)\n",
        "  test_features = np.reshape(test_features, (test_features.shape[0], test_features.shape[1], test_features.shape[2]))\n",
        "\n",
        "  predictions = model.predict(test_features)\n",
        "  predictions=predictions.reshape(df_test.shape[0],)\n",
        "\n",
        "  test_data_processed = (df_test.copy()).iloc[:].values\n",
        "  test_data_processed[:,0] = predictions\n",
        "  test_data_processed = scaler.inverse_transform(test_data_processed)\n",
        "  predictions = test_data_processed[:,0]\n",
        "\n",
        "  return predictions,model,scaler"
      ]
    },
    {
      "cell_type": "markdown",
      "source": [
        "## grid and model selection\n",
        "\n"
      ],
      "metadata": {
        "id": "o25vjJMj7g7i"
      }
    },
    {
      "cell_type": "code",
      "execution_count": null,
      "metadata": {
        "id": "WgxpOxfgfQZ-"
      },
      "outputs": [],
      "source": [
        "from sklearn.model_selection import ParameterGrid\n",
        "\n",
        "grid = ParameterGrid({'num_layers': [0,1,2,4], \n",
        "                      'epochs':[40,60],\n",
        "                      'p':[0.0,0.1,0.2],\n",
        "                      'length_history':[4,8,12],\n",
        "                      'n_splits':[20],\n",
        "                      'units':[4,8,24,48],\n",
        "                      'min_len_datasets':[30],\n",
        "                      'length_prediction':[1]})"
      ]
    },
    {
      "cell_type": "code",
      "source": [
        "grid = ParameterGrid({'num_layers': [1], \n",
        "                      'epochs':[60],\n",
        "                      'p':[0.0],\n",
        "                      'length_history':[8],\n",
        "                      'n_splits':[10],\n",
        "                      'units':[4,8,24,48],\n",
        "                      'min_len_datasets':[30],\n",
        "                      'length_prediction':[1]})"
      ],
      "metadata": {
        "id": "H_-QiT4n-OqY"
      },
      "execution_count": null,
      "outputs": []
    },
    {
      "cell_type": "markdown",
      "source": [
        "let's calculate the average mae for different grid architectures using timeseriescv\n",
        "\n",
        "based on the scores of the grid, we choose the architecture of the solution, train it and save the model, scaler\n"
      ],
      "metadata": {
        "id": "exlhoAk8_v5r"
      }
    },
    {
      "cell_type": "code",
      "execution_count": null,
      "metadata": {
        "id": "FJ1IPfIyf5cM"
      },
      "outputs": [],
      "source": [
        "from tqdm.notebook import tqdm\n",
        "\n",
        "scores = dict()\n",
        "\n",
        "for item in tqdm(grid):  \n",
        "  values = (df.copy()).values\n",
        "  length_prediction = item['length_prediction']\n",
        "  n_splits = item['n_splits']\n",
        "  min_len_datasets= item['min_len_datasets']\n",
        "  length_history=item['length_history']\n",
        "  tscv = TimeSeriesSplit(n_splits=n_splits,test_size=length_prediction)\n",
        "  res = []\n",
        "  for id_train,id_test in tscv.split(values):\n",
        "    df_train=df.iloc[id_train,:].copy()\n",
        "    if (len(df_train)<length_history+min_len_datasets):\n",
        "      continue\n",
        "    df_test=df.iloc[id_test,:].copy()\n",
        "    predictions,model,scaler = lstm_predict(df_train.copy(), df_test.copy(), shift=length_history,\n",
        "                               epochs=item['epochs'],p=item['p'],num_layers=item['num_layers'],units=item['units'])\n",
        "    error = 0\n",
        "    targets = df_test['target'].values\n",
        "    for i in range(len(predictions)):\n",
        "      error+=abs(predictions[i]-targets[i])\n",
        "    res.append(error/len(predictions))\n",
        "\n",
        "  scores[str(item)] = [np.mean(res)] "
      ]
    },
    {
      "cell_type": "code",
      "source": [
        "scores"
      ],
      "metadata": {
        "colab": {
          "base_uri": "https://localhost:8080/"
        },
        "id": "wJHrzp9MVUic",
        "outputId": "a2ac7bee-2cb6-4001-ee6d-f9edc2f536b3"
      },
      "execution_count": null,
      "outputs": [
        {
          "output_type": "execute_result",
          "data": {
            "text/plain": [
              "{\"{'epochs': 60, 'length_history': 8, 'length_prediction': 1, 'min_len_datasets': 30, 'n_splits': 10, 'num_layers': 1, 'p': 0.0}\": [40.38502165675163]}"
            ]
          },
          "metadata": {},
          "execution_count": 18
        }
      ]
    },
    {
      "cell_type": "markdown",
      "source": [
        "#Trash"
      ],
      "metadata": {
        "id": "19RRN5hs_8Tn"
      }
    },
    {
      "cell_type": "markdown",
      "source": [
        "## Предикт по последним данным. Надо от таблицы данные за последние length_history\n",
        "\n",
        "\n"
      ],
      "metadata": {
        "id": "JsXptoEGyRIZ"
      }
    },
    {
      "cell_type": "code",
      "source": [
        "def predict(scaler,model,df_train,df_test,shift):\n",
        "\n",
        "  scaler = scaler\n",
        "  df_training_processed = df_train.iloc[:, :].values\n",
        "  df_training_scaled = scaler.transform(df_training_processed)\n",
        "  model = model\n",
        "\n",
        "  # Создадим выборку для тестирования\n",
        "  df_total = pd.concat((df_train, df_test), axis=0)\n",
        "  test_inputs = df_total[len(df_total) - len(df_test) - shift:]\n",
        "  test_inputs_processed = test_inputs.iloc[:, :].values\n",
        "  test_inputs_scaled= scaler.transform(test_inputs_processed)\n",
        "  test_features = []\n",
        "  for i in range(shift, len(test_inputs_scaled)):\n",
        "      test_features.append(test_inputs_scaled[i-shift:i, :])\n",
        "\n",
        "  # Преобразуем опять в массив np и сделаем подходящий для LSTM формат\n",
        "  test_features = np.array(test_features)\n",
        "  test_features = np.reshape(test_features, (test_features.shape[0], test_features.shape[1], test_features.shape[2]))\n",
        "\n",
        "  predictions = model.predict(test_features)\n",
        "  predictions=predictions.reshape(df_test.shape[0],)\n",
        "\n",
        "  test_data_processed = (df_test.copy()).iloc[:].values\n",
        "  test_data_processed[:,0] = predictions\n",
        "  test_data_processed = scaler.inverse_transform(test_data_processed)\n",
        "  predictions = test_data_processed[:,0]\n",
        "  \n",
        "  return predictions"
      ],
      "metadata": {
        "id": "fgBuEjrvTLm6"
      },
      "execution_count": null,
      "outputs": []
    },
    {
      "cell_type": "code",
      "source": [
        "model = load_model(path+'lstm.hdf5')\n",
        "scaler = joblib.load(path+'/scaler_lstm') "
      ],
      "metadata": {
        "id": "7YyQ0I1bBULx"
      },
      "execution_count": null,
      "outputs": []
    },
    {
      "cell_type": "code",
      "source": [
        "len_ = df.shape[0]\n",
        "df_train = df.iloc[len_-length_history-1:len_-1,:].copy()\n",
        "df_test = df.iloc[len_-1:len_,:].copy()\n",
        "predict(scaler=scaler,model=model,df_train = df_train.copy(), df_test = df_test.copy(), shift=length_history)\n"
      ],
      "metadata": {
        "colab": {
          "base_uri": "https://localhost:8080/"
        },
        "id": "afskUMbRwg5U",
        "outputId": "724b9768-72e7-417e-8c0f-e57d28368a6e"
      },
      "execution_count": null,
      "outputs": [
        {
          "output_type": "execute_result",
          "data": {
            "text/plain": [
              "array([1241.32001865])"
            ]
          },
          "metadata": {},
          "execution_count": 21
        }
      ]
    },
    {
      "cell_type": "markdown",
      "source": [
        "## Прочее"
      ],
      "metadata": {
        "id": "VnAx_W9kzr_m"
      }
    },
    {
      "cell_type": "code",
      "source": [
        "def lstm_trained(features_set,labels,epochs = 40, batch_size = 4,num_layers=1,p=0.0,units=48,optimizer='adam'):\n",
        "  '''\n",
        "  return trained lstm\n",
        "\n",
        "  default params of model: \n",
        "  epochs = 40\n",
        "  batch_size = 4\n",
        "  num_layers=1\n",
        "  p=0.0\n",
        "  units=48\n",
        "  optimizer='adam'\n",
        "  '''\n",
        "  model = Sequential()\n",
        "  model.add(LSTM(units=50, return_sequences=True, input_shape=(features_set.shape[1],features_set.shape[2] )))\n",
        "  model.add(Dropout(0.2))\n",
        "  model.add(LSTM(units=50, return_sequences=True))\n",
        "  model.add(Dropout(0.2))\n",
        "\n",
        "  model.add(LSTM(units=50, return_sequences=True))\n",
        "  model.add(Dropout(0.2))\n",
        "\n",
        "  model.add(LSTM(units=50))\n",
        "  model.add(Dropout(0.2))\n",
        "  model.add(Dense(units = 1))\n",
        "  model.compile(optimizer = 'adam', loss = 'mean_squared_error')\n",
        "  model.fit(features_set, labels, epochs = epochs, batch_size = batch_size, verbose=1)\n",
        "  return model"
      ],
      "metadata": {
        "id": "3wVmWtf_7Mhl"
      },
      "execution_count": null,
      "outputs": []
    },
    {
      "cell_type": "code",
      "execution_count": null,
      "metadata": {
        "id": "ZruEqEUuyZmE"
      },
      "outputs": [],
      "source": [
        "model = Sequential()\n",
        "model.add(LSTM(units=50, return_sequences=True, input_shape=(features_set.shape[1],features_set.shape[2] )))\n",
        "model.add(Dropout(0.2))\n",
        "model.add(LSTM(units=50, return_sequences=True))\n",
        "model.add(Dropout(0.2))\n",
        "\n",
        "model.add(LSTM(units=50, return_sequences=True))\n",
        "model.add(Dropout(0.2))\n",
        "\n",
        "model.add(LSTM(units=50))\n",
        "model.add(Dropout(0.2))\n",
        "model.add(Dense(units = 1))\n"
      ]
    },
    {
      "cell_type": "code",
      "execution_count": null,
      "metadata": {
        "id": "-TOqMSYqytFk"
      },
      "outputs": [],
      "source": [
        "model.compile(optimizer = 'adam', loss = 'mean_squared_error')\n"
      ]
    },
    {
      "cell_type": "code",
      "execution_count": null,
      "metadata": {
        "id": "obEBls4myvGr"
      },
      "outputs": [],
      "source": [
        "model.fit(features_set, labels, epochs = 100, batch_size = 32)\n"
      ]
    },
    {
      "cell_type": "markdown",
      "metadata": {
        "id": "AbMcQFsdP1rr"
      },
      "source": [
        "## Тестируем"
      ]
    },
    {
      "cell_type": "code",
      "execution_count": null,
      "metadata": {
        "id": "IKBz16JC1Rkp"
      },
      "outputs": [],
      "source": [
        "\n",
        "\n",
        "\n",
        "df_total = pd.concat((df_train, df_test), axis=0)\n",
        "test_inputs = df_total[len(df_total) - len(df_test) - shift:]\n",
        "test_inputs_processed = test_inputs.iloc[:, :].values\n",
        "test_inputs_scaled= scaler.transform(test_inputs_processed)\n",
        "test_features = []\n",
        "for i in range(shift, len(test_inputs_scaled)):\n",
        "    test_features.append(test_inputs_scaled[i-shift:i, :])"
      ]
    },
    {
      "cell_type": "code",
      "execution_count": null,
      "metadata": {
        "id": "7guyvghHEr00"
      },
      "outputs": [],
      "source": [
        "test_features = np.array(test_features)\n",
        "test_features = np.reshape(test_features, (test_features.shape[0], test_features.shape[1], test_features.shape[2]))"
      ]
    },
    {
      "cell_type": "code",
      "execution_count": null,
      "metadata": {
        "colab": {
          "base_uri": "https://localhost:8080/"
        },
        "id": "iKhN0jTRZ4EN",
        "outputId": "13b453d1-dd4b-4645-bc1f-dc91fc0d0f62"
      },
      "outputs": [
        {
          "data": {
            "text/plain": [
              "(4, 12, 31)"
            ]
          },
          "execution_count": 12,
          "metadata": {},
          "output_type": "execute_result"
        }
      ],
      "source": [
        "test_features.shape"
      ]
    },
    {
      "cell_type": "code",
      "execution_count": null,
      "metadata": {
        "id": "7LLNWQCpChgf"
      },
      "outputs": [],
      "source": [
        "predictions = model.predict(test_features)\n",
        "predictions=predictions.reshape(4,) # 4 = 20\n",
        "# Осталось инвертировать scaler, для этого надо создать матрицу 20 х 31"
      ]
    },
    {
      "cell_type": "code",
      "execution_count": null,
      "metadata": {
        "colab": {
          "base_uri": "https://localhost:8080/"
        },
        "id": "4HPxvAvGULNV",
        "outputId": "b72ce82c-2550-4fe3-d129-14206d9f1c09"
      },
      "outputs": [
        {
          "data": {
            "text/plain": [
              "array([0.9632258 , 0.97302073, 0.9822262 , 0.99209136], dtype=float32)"
            ]
          },
          "execution_count": 14,
          "metadata": {},
          "output_type": "execute_result"
        }
      ],
      "source": [
        "predictions"
      ]
    },
    {
      "cell_type": "code",
      "execution_count": null,
      "metadata": {
        "id": "g89U4RWEHT8h"
      },
      "outputs": [],
      "source": [
        "test_data_processed = df_test.iloc[:].values\n",
        "test_data_processed[:,0] = predictions\n",
        "test_data_processed = scaler.inverse_transform(test_data_processed)\n",
        "predictions = test_data_processed[:,0]"
      ]
    },
    {
      "cell_type": "code",
      "execution_count": null,
      "metadata": {
        "colab": {
          "base_uri": "https://localhost:8080/"
        },
        "id": "esKG4sBLN7SR",
        "outputId": "e6dc925b-e357-49ff-9783-eb1304384bd8"
      },
      "outputs": [
        {
          "data": {
            "text/plain": [
              "array([1227.07417625, 1233.97961634, 1240.46946603, 1247.42440718])"
            ]
          },
          "execution_count": 16,
          "metadata": {},
          "output_type": "execute_result"
        }
      ],
      "source": [
        "predictions"
      ]
    },
    {
      "cell_type": "code",
      "execution_count": null,
      "metadata": {
        "colab": {
          "base_uri": "https://localhost:8080/"
        },
        "id": "lxY3He5aUuWV",
        "outputId": "75731ec3-6cc8-41db-9af8-61d50ec4c777"
      },
      "outputs": [
        {
          "data": {
            "text/plain": [
              "<bound method NDFrame.tail of 0       548.0\n",
              "1       548.0\n",
              "2       548.0\n",
              "3       573.0\n",
              "4       583.0\n",
              "        ...  \n",
              "263    1253.0\n",
              "264    1243.0\n",
              "265    1243.0\n",
              "266    1253.0\n",
              "267    1298.0\n",
              "Name: target, Length: 268, dtype: float64>"
            ]
          },
          "execution_count": 17,
          "metadata": {},
          "output_type": "execute_result"
        }
      ],
      "source": [
        "df = pd.read_csv(path + file_name)\n",
        "df['target'].tail"
      ]
    },
    {
      "cell_type": "code",
      "execution_count": null,
      "metadata": {
        "colab": {
          "base_uri": "https://localhost:8080/"
        },
        "id": "RdfvF88GN8-B",
        "outputId": "1976d74d-864e-491f-d461-c7fce7fffdc8"
      },
      "outputs": [
        {
          "data": {
            "text/plain": [
              "264    1243.0\n",
              "265    1243.0\n",
              "266    1253.0\n",
              "267    1298.0\n",
              "Name: target, dtype: float64"
            ]
          },
          "execution_count": 18,
          "metadata": {},
          "output_type": "execute_result"
        }
      ],
      "source": [
        "#df = pd.read_csv(path + file_name)\n",
        "df_test = df.iloc[df.shape[0]-4:,:] # 4 = 20\n",
        "df_test['target']\n",
        "#df\n"
      ]
    },
    {
      "cell_type": "code",
      "execution_count": null,
      "metadata": {
        "colab": {
          "base_uri": "https://localhost:8080/"
        },
        "id": "hv34UKnXSGs_",
        "outputId": "9316d43d-235f-4d5d-e1fd-ec482013970a"
      },
      "outputs": [
        {
          "data": {
            "text/plain": [
              "22.013083547353745"
            ]
          },
          "execution_count": 19,
          "metadata": {},
          "output_type": "execute_result"
        }
      ],
      "source": [
        "import sklearn.metrics as metrics\n",
        "metrics.mean_absolute_error(predictions,df_test['target'])"
      ]
    },
    {
      "cell_type": "code",
      "execution_count": null,
      "metadata": {
        "colab": {
          "base_uri": "https://localhost:8080/"
        },
        "id": "Hvp9CmEdOVD1",
        "outputId": "53d60327-1de6-4a9b-c100-76a7b253da7e"
      },
      "outputs": [
        {
          "data": {
            "text/plain": [
              "248"
            ]
          },
          "execution_count": 334,
          "metadata": {},
          "output_type": "execute_result"
        }
      ],
      "source": [
        "len_"
      ]
    },
    {
      "cell_type": "code",
      "execution_count": null,
      "metadata": {
        "colab": {
          "base_uri": "https://localhost:8080/",
          "height": 404
        },
        "id": "2zp197f5E1qt",
        "outputId": "a5577f2e-3d19-48b6-f760-1ec58740c98c"
      },
      "outputs": [
        {
          "data": {
            "image/png": "[encoded data removed]",
            "text/plain": [
              "<Figure size 720x432 with 1 Axes>"
            ]
          },
          "metadata": {},
          "output_type": "display_data"
        }
      ],
      "source": [
        "plt.figure(figsize=(10,6))\n",
        "df = pd.read_csv(path + file_name)\n",
        "df_test = df.iloc[df.shape[0]-4:,:]\n",
        "df_test['target']\n",
        "plt.plot(df_test['target'], color='blue', label='Actual Apple Stock Price')\n",
        "plt.plot(predictions , color='red', label='Predicted Apple Stock Price')\n",
        "plt.title('Apple Stock Price Prediction')\n",
        "plt.xlabel('Date')\n",
        "plt.ylabel('Apple Stock Price')\n",
        "plt.legend()\n",
        "plt.show()"
      ]
    },
    {
      "cell_type": "markdown",
      "metadata": {
        "id": "EklgMpEMzTHc"
      },
      "source": [
        "## Теперь обучена сеть lstm которая делает предсказания по данным за последний месяц на следующую неделю"
      ]
    },
    {
      "cell_type": "markdown",
      "metadata": {
        "id": "5VxeDV3DuwdK"
      },
      "source": [
        "## Прочее"
      ]
    },
    {
      "cell_type": "code",
      "execution_count": null,
      "metadata": {
        "id": "6mEv_74aAsow"
      },
      "outputs": [],
      "source": [
        "def scale(X):\n",
        "    # normalize the dataset\n",
        "    scaler = MinMaxScaler(feature_range=(0, 1))\n",
        "\n",
        "    X_train = scaler.fit_transform(X[0])\n",
        "    X_valid = scaler.transform(X[1])\n",
        "\n",
        "    return X_train, X_valid"
      ]
    },
    {
      "cell_type": "code",
      "execution_count": null,
      "metadata": {
        "id": "daOlPw_4lR0v"
      },
      "outputs": [],
      "source": [
        "def scale(x,y):\n",
        "  x_scaler = MinMaxScaler(feature_range=(0, 1))\n",
        "  y_scaler = MinMaxScaler(feature_range=(0, 1))\n",
        "  x_scaled = x_scaler.fit_transform(x)\n",
        "  y_scaled = y_scaler.fit_transform(y)\n",
        "\n",
        "  return x_scaled, y_scaled, x_scaler, y_scaler\n",
        "\n",
        "  "
      ]
    },
    {
      "cell_type": "code",
      "execution_count": null,
      "metadata": {
        "id": "3Ck3rTZVlxIR"
      },
      "outputs": [],
      "source": [
        "def split(df, num_of_splits, num_of_weeks):\n",
        "  '''\n",
        "  Принимает на вход датафрейм, формирует из него num_of_splits выборок типа: предыстория - значение target'a наперед на num_of_weeks\n",
        "  '''\n",
        "  "
      ]
    },
    {
      "cell_type": "code",
      "execution_count": null,
      "metadata": {
        "id": "amn5cVsfFZlC"
      },
      "outputs": [],
      "source": [
        "def split_scale(train, valid, num_of_weeks):\n",
        "    '''\n",
        "    Выделяет из train столбики с именами target_in_{num}_weeks как y_train, остальное как X_train\n",
        "    '''\n",
        "    targets = ['target_in_'+str(week)+'_weeks' for week in range(1, num_of_weeks+1)]\n",
        "    X_train = train.drop(targets, axis=1)\n",
        "    X_valid = valid.drop(targets, axis=1)\n",
        "    y_train = train[targets]\n",
        "    y_valid = valid[targets]\n",
        "\n",
        "    X_train, X_valid = scale([X_train, X_valid])\n",
        "\n",
        "    data = {'X_train': X_train,\n",
        "            'X_valid': X_valid,\n",
        "            'y_train': y_train,\n",
        "            'y_valid': y_valid}\n",
        "\n",
        "    return data"
      ]
    },
    {
      "cell_type": "code",
      "execution_count": null,
      "metadata": {
        "id": "zde81R02Bkxa"
      },
      "outputs": [],
      "source": [
        "from keras.layers import Dense, Dropout, BatchNormalization\n",
        "from keras.models import Sequential\n",
        "from keras.callbacks import EarlyStopping, ModelCheckpoint\n",
        "\n",
        "def nn_model_train(data, num_weeks):\n",
        "    results = []\n",
        "    X_train, X_valid, y_train, y_valid = data.values()\n",
        "    inp_size = X_train.shape[1]\n",
        "\n",
        "    model = Sequential()\n",
        "    #for layer in range(num_layers):\n",
        "    #  model.add(Dense(hidden_dim,activation='relu',input_shape=(inp_size,)))\n",
        "    #  model.add(BatchNormalization())\n",
        "    #  model.add(Dropout(p))\n",
        "    #  inp_size=hidden_dim\n",
        "    #model.add(Dense(num_weeks))\n",
        "    model.add(Dense(512, activation='relu', input_shape=(inp_size,)))\n",
        "    model.add(BatchNormalization())\n",
        "    model.add(Dropout(0.2))\n",
        "    model.add(Dense(256, activation='relu'))\n",
        "    model.add(BatchNormalization())\n",
        "    model.add(Dropout(0.2))\n",
        "    model.add(Dense(128, activation='relu'))\n",
        "    model.add(Dense(num_weeks))\n",
        "\n",
        "    # model_checkpoint_callback = ModelCheckpoint(filepath=path,\n",
        "    #                                             save_weights_only=True,\n",
        "    #                                             monitor='val_mae',\n",
        "    #                                             mode='min',\n",
        "    #                                             save_best_only=True)\n",
        "\n",
        "    model_early_stop_callback = EarlyStopping(monitor=\"val_loss\",\n",
        "                                              patience=200,\n",
        "                                              verbose=1,\n",
        "                                              mode=\"min\")\n",
        "    \n",
        "    model.compile(optimizer='rmsprop', \n",
        "                  loss='mse', \n",
        "                  metrics=['mae'])\n",
        "    \n",
        "    history = model.fit(X_train, y_train,\n",
        "                        steps_per_epoch=1,\n",
        "                        epochs=5000,\n",
        "                        callbacks=[model_early_stop_callback],\n",
        "                        validation_data=(X_valid, y_valid),\n",
        "                        validation_steps=1)\n",
        "    \n",
        "    # y_train_pred = model.predict(X_train, steps=1)\n",
        "    y_pred = model.predict(X_valid, steps=1)\n",
        "\n",
        "    # score_train = mse(y_train, y_train_pred) ** 0.5\n",
        "    # score_valid = mse(y_valid, y_pred) ** 0.5\n",
        "    score_train = None\n",
        "    score_valid = None\n",
        "    \n",
        "    return history, (score_train, score_valid), y_pred"
      ]
    },
    {
      "cell_type": "code",
      "execution_count": null,
      "metadata": {
        "id": "DRfkJKpyuvCx"
      },
      "outputs": [],
      "source": [
        "values = df.values\n",
        "tscv = TimeSeriesSplit(n_splits=3,test_size=4)\n",
        "for train,test in tscv.split(values):\n",
        "  print(values[train],values[test])"
      ]
    },
    {
      "cell_type": "code",
      "execution_count": null,
      "metadata": {
        "id": "Krbs8oJDuDzs"
      },
      "outputs": [],
      "source": [
        "#df.drop('timepoint',inplace=True,axis=1)\n",
        "values = df.values\n",
        "tscv = TimeSeriesSplit(n_splits=3,test_size=1)\n",
        "for train, test in tscv.split(values):\n",
        "    model = RandomForestRegressor(n_estimators=1000,\n",
        "#                                   max_depth=3,\n",
        "                                  random_state=13,\n",
        "                                  verbose=100)\n",
        "                                  #n_outputs_=len(test))\n",
        "    #model = Perceptron(input_dim = len(train), output_dim=len(test),num_layers=3)\n",
        "    model.fit(np.array(values[train]),np.array(values[test]))\n",
        "    score_train = model.score(np.array(values[train]),np.array(values[test]))\n",
        "    print(score_train)\n",
        "    y_pred = model.predict(list(values[train]))\n",
        "    score_train = mse(y_pred, values[test]) ** 0.5"
      ]
    },
    {
      "cell_type": "code",
      "execution_count": null,
      "metadata": {
        "id": "9XA8FHpQVE8x"
      },
      "outputs": [],
      "source": [
        "# Time Validation\n",
        "def time_valid(df_, num_of_weeks=1, valid_step=1):\n",
        "    cache = {'scores': [],\n",
        "             'histories': [],\n",
        "             'y_pred': []}\n",
        "    # In order to save original df\n",
        "    df = df_.copy()\n",
        "\n",
        "    # Shift target values for prediction\n",
        "    for week in range(1, num_of_weeks+1):\n",
        "        df['target_in_'+str(week)+'_weeks'] = df['target'].shift(periods=-week)\n",
        "    \n",
        "    # Save rows without information about future\n",
        "    # cache['test_val'] = df[df['target_in_'+str(num_of_weeks)+'_weeks'].isna()]['target']\n",
        "    # And drop them, as we do not know targets ahead of them\n",
        "\n",
        "\n",
        "    # тут стоит обрабатывать разные предсказатели по-разному. больше  объектов не удалится\n",
        "    df = df[df['target_in_'+str(num_of_weeks)+'_weeks'].notna()]\n",
        "    # return df, cache\n",
        "    length = df.shape[0]\n",
        "\n",
        "    for valid in range(valid_step):\n",
        "        val_end = length - valid\n",
        "        val_start = val_end - num_of_weeks\n",
        "\n",
        "        df_train = df.iloc[:val_start].copy()\n",
        "        df_valid = df.iloc[val_start:val_end].copy()\n",
        "\n",
        "        data = split_scale(df_train, df_valid, num_of_weeks)\n",
        "\n",
        "        history, score, y_pred = nn_model_train(data, num_of_weeks)#,num_layers=num_layers,p=p,hidden_dim=hidden_dim)\n",
        "        cache['scores'].append(score)\n",
        "        cache['histories'].append(history)\n",
        "        cache['y_pred'].append(y_pred)\n",
        "        print(y_pred)\n",
        "    \n",
        "    return cache"
      ]
    },
    {
      "cell_type": "code",
      "execution_count": null,
      "metadata": {
        "id": "7154OVH3Wyhd"
      },
      "outputs": [],
      "source": [
        "#df_ = df.drop(['timepoint'],axis=1)\n",
        "cache = time_valid(df)#,p=0.2,num_layers=4,hidden_dim=256)"
      ]
    },
    {
      "cell_type": "code",
      "execution_count": null,
      "metadata": {
        "id": "GFMR70uQVcZ7"
      },
      "outputs": [],
      "source": [
        "def plot_history(history):\n",
        "    acc = history.history['mae']\n",
        "    val_acc = history.history['val_mae']\n",
        "    loss = history.history['loss']\n",
        "    val_loss = history.history['val_loss']\n",
        "\n",
        "    epochs = range(1, len(acc) + 1)\n",
        "    plt.plot(epochs, acc, 'bo', label='Training mae')\n",
        "    plt.plot(epochs, val_acc, 'b', label='Validation mae')\n",
        "    plt.title('Training and Validation mae')\n",
        "    plt.legend()\n",
        "\n",
        "    plt.figure()\n",
        "\n",
        "    plt.plot(epochs, loss, 'bo', label='Training loss')\n",
        "    plt.plot(epochs, val_loss, 'b', label='Validation loss')\n",
        "    plt.title('Training and Validation loss')\n",
        "    plt.legend()\n",
        "\n",
        "    plt.show()"
      ]
    },
    {
      "cell_type": "code",
      "execution_count": null,
      "metadata": {
        "colab": {
          "base_uri": "https://localhost:8080/",
          "height": 545
        },
        "id": "-UppPJu9XWAi",
        "outputId": "64f75c95-f8e9-49a8-9ab9-ef2842c085cf"
      },
      "outputs": [
        {
          "data": {
            "image/png": "[encoded data removed]",
            "text/plain": [
              "<Figure size 432x288 with 1 Axes>"
            ]
          },
          "metadata": {},
          "output_type": "display_data"
        },
        {
          "data": {
            "image/png": "[encoded data removed]",
            "text/plain": [
              "<Figure size 432x288 with 1 Axes>"
            ]
          },
          "metadata": {},
          "output_type": "display_data"
        }
      ],
      "source": [
        "for history in cache['histories']:\n",
        "    plot_history(history)"
      ]
    },
    {
      "cell_type": "code",
      "execution_count": null,
      "metadata": {
        "id": "5fO2gGTRXWDF"
      },
      "outputs": [],
      "source": [
        ""
      ]
    },
    {
      "cell_type": "code",
      "execution_count": null,
      "metadata": {
        "id": "e_8s6odLXWEp"
      },
      "outputs": [],
      "source": [
        ""
      ]
    },
    {
      "cell_type": "code",
      "execution_count": null,
      "metadata": {
        "id": "Vg9T1kIcXA2a"
      },
      "outputs": [],
      "source": [
        "# score_train = model.score(X_train, y_train)\n",
        "#     y_pred = model.predict(X_valid)\n",
        "#     score_valid = mse(y_valid, y_pred) ** 0.5\n",
        "\n",
        "#     print(model.feature_importances_)"
      ]
    },
    {
      "cell_type": "code",
      "execution_count": null,
      "metadata": {
        "id": "utpFXeVmStBi"
      },
      "outputs": [],
      "source": [
        "# eval_set = [(X_train, y_train), (X_valid, y_valid)]\n",
        "\n",
        "# xgbr = xgb.XGBRegressor(objective='reg:squarederror',\n",
        "#                         max_depth=2,\n",
        "#                         colsample_by_tree=0.7,\n",
        "#                         gamma=1.5,\n",
        "#                         eta=0.01)\n",
        "\n",
        "# xgbr.fit(X_train, y_train,\n",
        "#             eval_metric=['rmse', 'rmse'],\n",
        "#             eval_set=eval_set,\n",
        "#             early_stopping_rounds=100,\n",
        "#             verbose=2)\n",
        "\n",
        "# score_train = xgbr.score(X_train, y_train)\n",
        "\n",
        "# y_pred = xgbr.predict(X_valid)"
      ]
    }
  ],
  "metadata": {
    "colab": {
      "collapsed_sections": [
        "N8mOjEYp2dn5",
        "OQW8I5CZ-RqQ",
        "o25vjJMj7g7i",
        "19RRN5hs_8Tn",
        "VnAx_W9kzr_m",
        "AbMcQFsdP1rr",
        "EklgMpEMzTHc",
        "5VxeDV3DuwdK"
      ],
      "name": "grid_for_lstm.ipynb\"",
      "provenance": []
    },
    "kernelspec": {
      "display_name": "Python 3",
      "name": "python3"
    },
    "language_info": {
      "name": "python"
    }
  },
  "nbformat": 4,
  "nbformat_minor": 0
}